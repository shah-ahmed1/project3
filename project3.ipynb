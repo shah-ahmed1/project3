{
 "cells": [
  {
   "cell_type": "markdown",
   "metadata": {},
   "source": [
    "# Project 3\n",
    "\n",
    "The developing community of Dunetown has decided to use a large lake located in the highlands near the town as their water supply.  To accomplish this, they have decided to install a steel pipe to bring the water from the lake to the town, as shown in the figure below.  The pipe should be capable of delivering a flow rate of $10000$ gallons per minute to the town in order to satisfy their present demand for water.\n",
    "\n",
    "You are an engineer in the Dunetown Department of Water Services and the department head has just charged you with determining the required diameter of the pipe.  She then hands you a list of tasks she would like to see completed in the analysis (See below).\n",
    "\n",
    "\n",
    "<img src='images/dunetown.png' width=500>\n",
    "\n",
    "## Analysis\n",
    "\n",
    "Fully developed flow in a pipe is governed by an energy balance equation of the form\n",
    "\n",
    "\\begin{equation}\n",
    "    \\frac{p_1}{\\rho} + \\frac{V_{1}^2}{2} + g z_1 = \\frac{p_2}{\\rho} + \\frac{V_{2}^2}{2} + g z_2 + g h_l,\n",
    "\\end{equation}\n",
    "\n",
    "where station 1 is the free surface of the water in the lake and station 2 is the end of the pipe, $p$ is the pressure, $V$ is the average velocity of the fluid at that point, $z$ is the elevation, $\\rho$ is the fluid density, $g$ is acceleration of gravity, and $h_l$ is the head loss, which represents irreversible transfer of mechanical energy to thermal energy in the flow.\n",
    "\n",
    "In the figure above, the pressures at stations 1 and 2 are the same, the average velocity at the surface of the lake is zero, the elevation at $z_2$ is defined as zero, and the velocity at station 2 is the average velocity in the pipe $V$.  Thus the energy balance simplifies to\n",
    "\n",
    "\\begin{equation}\n",
    "    z_1=\\frac{V^2}{2 g}+h_l.\n",
    "\\end{equation}\n",
    "\n",
    "\n",
    "The head loss is written as\n",
    "\n",
    "\\begin{equation}\n",
    "    h_l=f \\frac{L}{D} \\frac{V^2}{2 g},\n",
    "\\end{equation}\n",
    "\n",
    "where $f$ is the friction factor, $L$ is the pipe length, $D$ is the pipe diameter, and $V$ is the average velocity in the pipe.\n",
    "\n",
    "The Colebrook friction factor for turbulent pipe flow is based on a correlation of a large amount of turbulent pipe flow data.  It is written as\n",
    "\n",
    "\\begin{equation}\n",
    "    \\frac{1}{\\sqrt{f}} = -2.0 \\log_{10} \\left( \\frac{\\varepsilon/D}{3.7} + \\frac{2.51}{Re \\sqrt{f}} \\right).\n",
    "\\end{equation}\n",
    "\n",
    "Here, $\\varepsilon$ is the pipe roughness and $Re$ is the Reynold's number of the flow, defined as\n",
    "\n",
    "\\begin{equation}\n",
    "    Re =  \\frac{VD}{\\nu},\n",
    "\\end{equation}\n",
    "\n",
    "where $\\nu$ is the kinematic viscosity of the fluid. A good initial guess for this friction factor is\n",
    "\n",
    "\\begin{equation}\n",
    "    f = \\frac{1.325}{\\left[ \\ln \\left( \\frac{\\varepsilon/D}{3.7} + \\frac{5.74}{Re^{0.9}} \\right) \\right]^2}.\n",
    "\\end{equation}\n",
    "\n",
    "The Colebrook friction factor for turbulent flow is valid for $Re > 2000$.  For $Re < 2000$, the flow is laminar and the friction factor is written simply as\n",
    "\n",
    "\\begin{equation}\n",
    "    f = \\frac{64}{Re}\n",
    "\\end{equation}\n",
    "\n",
    "The flow rate $Q$ in the pipe is given by\n",
    "\n",
    "\\begin{equation}\n",
    "    Q = A V,\n",
    "\\end{equation}\n",
    "\n",
    "where $A$ is the cross sectional area of the pipe.\n",
    "\n",
    "Finally, data for this pipe flow is given in the following table:\n",
    "\n",
    "| Pipe Flow Data ||\n",
    "|--:|:--|\n",
    "| length, $L$ | 2 km |\n",
    "| roughness, $\\varepsilon$ | 0.2 mm |\n",
    "| lake elevation, $z_1$ | 30 m |\n",
    "| fluid viscosity, $\\nu$ | $$1.12 \\times 10^{-6} \\mbox{m}^2/\\mbox{s}$$ |\n",
    "| acc. gravity, $g$ | 9.807 $\\mbox{m}^2/\\mbox{s}$ |\n",
    "\n",
    "## Task 1\n",
    "\n",
    "Complete the class `Dunetown` below by writing a member function `friction_factor()` to compute the friction factor for pipe flow.\n",
    "\n",
    " * The function should return a floating point number (not a NumPy array) that is the friction factor $f$.  The function takes two input arguments, the flow Reynold's number $Re$ and optionally, the pipe roughness ratio $\\varepsilon / D$.  If the roughness ratio is omitted, use a default of zero, a smooth pipe.\n",
    "\n",
    " * Use the laminar friction factor when $Re < 2000$ and the Colebrook friction factor otherwise.\n",
    "\n",
    " * Use Newton's method to iterate the Colebrook formula.  Terminate the iteration when the approximate relative error is less than $10^8$.  Use the initial guess given to start your iteration.  With this starting point, your function should always converge.\n",
    "\n",
    " * If you think about it carefully, a change of variables makes your function for Newton's method easier to write.\n",
    " \n",
    " * You can write your own Newton's method implementation or use SciPy's [`scipy.optimize.fsolve`](https://docs.scipy.org/doc/scipy-0.14.0/reference/generated/scipy.optimize.fsolve.html) function.  If you use `fsolve` be sure to include the optional argument `fprime` so that it uses Newton's method and not the Secant Method.\n",
    " \n",
    "## Task 2\n",
    "\n",
    "Write another member function called `pipeflow()` to solve the energy balance.\n",
    "\n",
    " * This function should have one argument, the pipe diameter $D$ in units of meters and return the average velocity in the pipe $V$ in meters per second.\n",
    "\n",
    " * Use any root finding method you choose to solve for the velocity in the energy balance.\n",
    "\n",
    " * Use a relative error of $10^{-8}$.\n",
    "\n",
    " * Test your function with a test diameter of $D=0.1$ m.  The average velocity for this case is $V=1.080244$ $\\mbox{m}/\\mbox{s}$.\n",
    " \n",
    " * The constants needed to carry out the calculations are already stored as class attributes.\n",
    "\n",
    "\n",
    "## Task 3\n",
    "\n",
    "Complete the member function `pipe_selector()`.  There is a class attribute called `pipe_sizes` that contains a dictionary of standard schedule 40 (SH40) pipe sizes.  The keywords in the dictionary are the \"nominal\" pipe sizes and the values are the actual inner diameter of the pipes (what we need to use to size the pipe for the flowrate).  Use the other functions you wrote and the `pipe_sizes` dictionary to determine the *smallest* nominal pipe size (an integer) that is adequate for the 10000 gal/min water demand.  `pipe_selector()` should return this pipe size.  **Note:** All of the other calculations should be accomplished in SI units.  We only convert to English units in this last step to size the pipe which are described and sold by their nominal sizes in inches."
   ]
  },
  {
   "cell_type": "code",
   "execution_count": 4,
   "metadata": {},
   "outputs": [],
   "source": [
    "import numpy as np\n",
    "import scipy.optimize as opt\n",
    "import matplotlib.pyplot as plt\n",
    "\n",
    "class Dunetown(object):\n",
    "    \n",
    "    def __init__(self):   \n",
    "        self.length = 2000        #m\n",
    "        self.ϵ = 0.2 / 1000       #m\n",
    "        self.z1 = 30              #m\n",
    "        self.nu = 1.12e-6          #m^2/s\n",
    "        self.gravity = 9.807      #m/s^2\n",
    "        \n",
    "        #key: value -> nominal SH40 pipe size in inches: actual pipe inner diameter in inches\n",
    "        self.pipe_sizes = {4: 4.03, 5: 5.05, 6: 6.07, 8: 7.98, 10: 10.02, \n",
    "                           12: 11.94, 14: 13.13, 16: 15.00, 18: 16.88, 20: 18.81, 24: 22.63}\n",
    "    \n",
    "    def friction_factor(self, Re, roughness_ratio=0):\n",
    "        if Re <= 2000:\n",
    "            return 64/Re\n",
    "        else:\n",
    "            def colebrook(u):\n",
    "                return u+2*np.log10(roughness_ratio/3.7+2.51/Re*u)\n",
    "            def derivative(u):\n",
    "                return 1+8.06659/(roughness_ratio*Re+9.287*u)\n",
    "            initial_guess = 0.02\n",
    "            f_solution = opt.fsolve(colebrook, initial_guess, fprime=derivative, xtol=1e-8)\n",
    "            f_solution = f_solution**-2\n",
    "        return f_solution[0]\n",
    "    \n",
    "        \n",
    "    def pipeflow(self, diameter):\n",
    "        def velocity_function(v):\n",
    "            Re = v*diameter/self.nu\n",
    "            f = self.friction_factor(Re, self.ϵ/diameter)\n",
    "            hf = f*self.length/diameter*v**2/(2*self.gravity)\n",
    "            return -self.z1+v**2/(2*self.gravity)+hf\n",
    "        \n",
    "        initial_guess = 1.0\n",
    "        v_solution = opt.fsolve(velocity_function, initial_guess)\n",
    "        return v_solution[0]\n",
    "        \n",
    "    def pipe_selector(self):\n",
    "        flow_rate_gpm = 10000\n",
    "        flow_rate_m3s = flow_rate_gpm * 0.00378541/60 \n",
    "        \n",
    "        adequate_pipe_size = None\n",
    "        for nominal_size, diameter_inches in sorted(self.pipe_sizes.items()):\n",
    "            diameter_m = diameter_inches * 0.0254\n",
    "            area = np.pi * (diameter_m / 2) ** 2\n",
    "            required_velocity = flow_rate_m3s / area\n",
    "\n",
    "        actual_velocity = self.pipeflow(diameter_m)\n",
    "        if actual_velocity >= required_velocity:\n",
    "            adequate_pipe_size = nominal_size\n",
    "\n",
    "        return adequate_pipe_size"
   ]
  },
  {
   "cell_type": "code",
   "execution_count": 5,
   "metadata": {},
   "outputs": [
    {
     "data": {
      "text/plain": [
       "0.04867858664517315"
      ]
     },
     "execution_count": 5,
     "metadata": {},
     "output_type": "execute_result"
    }
   ],
   "source": [
    "dt = Dunetown()\n",
    "dt.friction_factor(2100)"
   ]
  },
  {
   "cell_type": "code",
   "execution_count": 6,
   "metadata": {},
   "outputs": [
    {
     "data": {
      "text/plain": [
       "1.0802443144054115"
      ]
     },
     "execution_count": 6,
     "metadata": {},
     "output_type": "execute_result"
    }
   ],
   "source": [
    "dt.pipeflow(.1)"
   ]
  },
  {
   "cell_type": "code",
   "execution_count": 7,
   "metadata": {},
   "outputs": [
    {
     "data": {
      "text/plain": [
       "24"
      ]
     },
     "execution_count": 7,
     "metadata": {},
     "output_type": "execute_result"
    }
   ],
   "source": [
    "dt.pipe_selector()"
   ]
  },
  {
   "cell_type": "code",
   "execution_count": null,
   "metadata": {},
   "outputs": [],
   "source": []
  }
 ],
 "metadata": {
  "kernelspec": {
   "display_name": "Python 3 (ipykernel)",
   "language": "python",
   "name": "python3"
  },
  "language_info": {
   "codemirror_mode": {
    "name": "ipython",
    "version": 3
   },
   "file_extension": ".py",
   "mimetype": "text/x-python",
   "name": "python",
   "nbconvert_exporter": "python",
   "pygments_lexer": "ipython3",
   "version": "3.10.2"
  }
 },
 "nbformat": 4,
 "nbformat_minor": 4
}
